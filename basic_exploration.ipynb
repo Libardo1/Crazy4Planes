{
 "cells": [
  {
   "cell_type": "markdown",
   "metadata": {},
   "source": [
    "# Data Exploration"
   ]
  },
  {
   "cell_type": "markdown",
   "metadata": {},
   "source": [
    "I am using the data from 2015 with the features: 'QUARTER','ORIGIN_AIRPORT_ID','DEST_AIRPORT_ID','PASSENGERS','MARKET_FARE','DISTANCE_GROUP'\n",
    "\n",
    "Run script basic_download.sh to get this csv"
   ]
  },
  {
   "cell_type": "code",
   "execution_count": 3,
   "metadata": {
    "collapsed": false
   },
   "outputs": [
    {
     "data": {
      "text/html": [
       "<div>\n",
       "<table border=\"1\" class=\"dataframe\">\n",
       "  <thead>\n",
       "    <tr style=\"text-align: right;\">\n",
       "      <th></th>\n",
       "      <th>Quarter</th>\n",
       "      <th>Origin_airport_ID</th>\n",
       "      <th>Dest_airport_ID</th>\n",
       "      <th>Passengers</th>\n",
       "      <th>Market_fare</th>\n",
       "      <th>Distance_group</th>\n",
       "    </tr>\n",
       "  </thead>\n",
       "  <tbody>\n",
       "    <tr>\n",
       "      <th>0</th>\n",
       "      <td>1</td>\n",
       "      <td>10721</td>\n",
       "      <td>10821</td>\n",
       "      <td>1.0</td>\n",
       "      <td>155.0</td>\n",
       "      <td>1</td>\n",
       "    </tr>\n",
       "    <tr>\n",
       "      <th>1</th>\n",
       "      <td>1</td>\n",
       "      <td>10821</td>\n",
       "      <td>10721</td>\n",
       "      <td>1.0</td>\n",
       "      <td>157.0</td>\n",
       "      <td>1</td>\n",
       "    </tr>\n",
       "    <tr>\n",
       "      <th>2</th>\n",
       "      <td>1</td>\n",
       "      <td>10721</td>\n",
       "      <td>10821</td>\n",
       "      <td>1.0</td>\n",
       "      <td>157.0</td>\n",
       "      <td>1</td>\n",
       "    </tr>\n",
       "    <tr>\n",
       "      <th>3</th>\n",
       "      <td>1</td>\n",
       "      <td>10821</td>\n",
       "      <td>10721</td>\n",
       "      <td>1.0</td>\n",
       "      <td>157.5</td>\n",
       "      <td>1</td>\n",
       "    </tr>\n",
       "    <tr>\n",
       "      <th>4</th>\n",
       "      <td>1</td>\n",
       "      <td>10721</td>\n",
       "      <td>10821</td>\n",
       "      <td>1.0</td>\n",
       "      <td>157.5</td>\n",
       "      <td>1</td>\n",
       "    </tr>\n",
       "  </tbody>\n",
       "</table>\n",
       "</div>"
      ],
      "text/plain": [
       "   Quarter  Origin_airport_ID  Dest_airport_ID  Passengers  Market_fare  \\\n",
       "0        1              10721            10821         1.0        155.0   \n",
       "1        1              10821            10721         1.0        157.0   \n",
       "2        1              10721            10821         1.0        157.0   \n",
       "3        1              10821            10721         1.0        157.5   \n",
       "4        1              10721            10821         1.0        157.5   \n",
       "\n",
       "   Distance_group  \n",
       "0               1  \n",
       "1               1  \n",
       "2               1  \n",
       "3               1  \n",
       "4               1  "
      ]
     },
     "execution_count": 3,
     "metadata": {},
     "output_type": "execute_result"
    }
   ],
   "source": [
    "#imports \n",
    "import pandas as pd\n",
    "import numpy as np\n",
    "from info_features import quarter_dic, airport_id_dic, dist_group_dic\n",
    "from collections import Counter\n",
    "\n",
    "#reading csv\n",
    "df = pd.read_csv(\"./data/2015data.csv\")\n",
    "df.head()"
   ]
  },
  {
   "cell_type": "markdown",
   "metadata": {},
   "source": [
    "### top 10 most popular airports"
   ]
  },
  {
   "cell_type": "code",
   "execution_count": 10,
   "metadata": {
    "collapsed": false
   },
   "outputs": [],
   "source": [
    "origin_air_count = dict(Counter(list(df[\"Origin_airport_ID\"])))\n",
    "dest_air_count = dict(Counter(list(df[\"Dest_airport_ID\"])))\n",
    "origin_air_count = [(v,airport_id_dic[k]) for k, v in origin_air_count.items()]\n",
    "dest_air_count = [(v,airport_id_dic[k]) for k, v in dest_air_count.items()]\n",
    "origin_air_count.sort(reverse=True)\n",
    "dest_air_count.sort(reverse=True)"
   ]
  },
  {
   "cell_type": "code",
   "execution_count": 12,
   "metadata": {
    "collapsed": false
   },
   "outputs": [
    {
     "name": "stdout",
     "output_type": "stream",
     "text": [
      "Los Angeles, CA: Los Angeles International\n",
      "Chicago, IL: Chicago O'Hare International\n",
      "San Francisco, CA: San Francisco International\n",
      "Orlando, FL: Orlando International\n",
      "Denver, CO: Denver International\n",
      "Dallas/Fort Worth, TX: Dallas/Fort Worth International\n",
      "Atlanta, GA: Hartsfield-Jackson Atlanta International\n",
      "Phoenix, AZ: Phoenix Sky Harbor International\n",
      "Las Vegas, NV: McCarran International\n",
      "Boston, MA: Logan International\n"
     ]
    }
   ],
   "source": [
    "for i in range(10):\n",
    "    print(origin_air_count[i][1])\n",
    "    "
   ]
  },
  {
   "cell_type": "code",
   "execution_count": 13,
   "metadata": {
    "collapsed": false
   },
   "outputs": [
    {
     "name": "stdout",
     "output_type": "stream",
     "text": [
      "Los Angeles, CA: Los Angeles International\n",
      "Chicago, IL: Chicago O'Hare International\n",
      "San Francisco, CA: San Francisco International\n",
      "Orlando, FL: Orlando International\n",
      "Denver, CO: Denver International\n",
      "Atlanta, GA: Hartsfield-Jackson Atlanta International\n",
      "Dallas/Fort Worth, TX: Dallas/Fort Worth International\n",
      "Phoenix, AZ: Phoenix Sky Harbor International\n",
      "Las Vegas, NV: McCarran International\n",
      "Boston, MA: Logan International\n"
     ]
    }
   ],
   "source": [
    "for i in range(10):\n",
    "    print(dest_air_count[i][1])"
   ]
  },
  {
   "cell_type": "markdown",
   "metadata": {},
   "source": [
    "### Most frequent flight"
   ]
  },
  {
   "cell_type": "code",
   "execution_count": 19,
   "metadata": {
    "collapsed": false
   },
   "outputs": [
    {
     "name": "stdout",
     "output_type": "stream",
     "text": [
      "Los Angeles, CA: Los Angeles International -> New York, NY: John F. Kennedy International\n",
      "New York, NY: John F. Kennedy International -> Los Angeles, CA: Los Angeles International\n",
      "San Francisco, CA: San Francisco International -> New York, NY: John F. Kennedy International\n",
      "New York, NY: John F. Kennedy International -> San Francisco, CA: San Francisco International\n",
      "San Francisco, CA: San Francisco International -> Boston, MA: Logan International\n",
      "Miami, FL: Miami International -> New York, NY: LaGuardia\n",
      "Boston, MA: Logan International -> San Francisco, CA: San Francisco International\n",
      "Chicago, IL: Chicago O'Hare International -> New York, NY: LaGuardia\n",
      "New York, NY: LaGuardia -> Chicago, IL: Chicago O'Hare International\n",
      "New York, NY: LaGuardia -> Miami, FL: Miami International\n"
     ]
    }
   ],
   "source": [
    "freq_car = list(df[\"Origin_airport_ID\"])\n",
    "freq_cdr = list(df[\"Dest_airport_ID\"])\n",
    "observations = zip(freq_car, freq_cdr)\n",
    "frequency = dict(Counter(observations))\n",
    "frequency = [(v,(airport_id_dic[k[0]],airport_id_dic[k[1]])) for k, v in frequency.items()]\n",
    "frequency.sort(reverse=True)\n",
    "for i in range(10):\n",
    "    origin,destination = frequency[i][1] \n",
    "    print(\"{0} -> {1}\".format(origin,destination))"
   ]
  },
  {
   "cell_type": "markdown",
   "metadata": {},
   "source": [
    "### Reading and transforming the raw dataset"
   ]
  },
  {
   "cell_type": "code",
   "execution_count": 3,
   "metadata": {
    "collapsed": true
   },
   "outputs": [],
   "source": [
    "#reading csv\n",
    "# df = pd.read_csv(\"raw2015data.csv\")\n",
    "# df = df[['QUARTER','ORIGIN_AIRPORT_ID','DEST_AIRPORT_ID','PASSENGERS','MARKET_FARE','DISTANCE_GROUP']]\n",
    "# df = df.rename(columns ={'QUARTER':'Quarter',\n",
    "#                          'ORIGIN_AIRPORT_ID': 'Origin_airport_ID',\n",
    "#                          'DEST_AIRPORT_ID': 'Dest_airport_ID',\n",
    "#                          'PASSENGERS': 'Passengers',\n",
    "#                          'MARKET_FARE': 'Market_fare',\n",
    "#                          'DISTANCE_GROUP': 'Distance_group'})\n",
    "# df.to_csv('2015data.csv',index=False)"
   ]
  }
 ],
 "metadata": {
  "kernelspec": {
   "display_name": "Python 3",
   "language": "python",
   "name": "python3"
  },
  "language_info": {
   "codemirror_mode": {
    "name": "ipython",
    "version": 3
   },
   "file_extension": ".py",
   "mimetype": "text/x-python",
   "name": "python",
   "nbconvert_exporter": "python",
   "pygments_lexer": "ipython3",
   "version": "3.5.2"
  }
 },
 "nbformat": 4,
 "nbformat_minor": 1
}
